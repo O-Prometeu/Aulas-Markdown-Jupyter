{
 "cells": [
  {
   "cell_type": "code",
   "execution_count": 1,
   "metadata": {},
   "outputs": [],
   "source": [
    "# Em células do tipo Code, o símbolo # indica comentário, tudo que é escrito depois do # é ignorado pelo programa naquela linha\n",
    "# Importando bibliotecas úteis \n",
    "from math import *\n",
    "import numpy as np"
   ]
  },
  {
   "cell_type": "markdown",
   "metadata": {},
   "source": [
    "## Elementos simples de programação:\n",
    "\n",
    "> ### String : podem ser interpretados como palavras ou textos, não possuem valor matemático sem que seja feita a conversão. Podem ser representados por qualquer coisa escrita entre aspas simples ou duplas;\n"
   ]
  },
  {
   "cell_type": "code",
   "execution_count": 2,
   "metadata": {},
   "outputs": [
    {
     "name": "stdout",
     "output_type": "stream",
     "text": [
      "Esta é uma string e esta é outra string\n"
     ]
    }
   ],
   "source": [
    "#Declarando variáveis como strings:\n",
    "a = 'Esta é uma string'\n",
    "b = ' e esta é outra string'\n",
    "c = a + b\n",
    "print(c)"
   ]
  },
  {
   "cell_type": "code",
   "execution_count": 3,
   "metadata": {},
   "outputs": [
    {
     "name": "stdout",
     "output_type": "stream",
     "text": [
      "34\n"
     ]
    }
   ],
   "source": [
    "# Strings não realizam somas numéricas\n",
    "d = '3'\n",
    "e = '4'\n",
    "print(d + e)"
   ]
  },
  {
   "cell_type": "markdown",
   "metadata": {},
   "source": [
    "> ### Os elementos de uma string possuem uma coordenada dada pela ordem escrita de caracteres e podem ser chamados com a escrita \"nome da string\"[coordenada da string]"
   ]
  },
  {
   "cell_type": "code",
   "execution_count": 4,
   "metadata": {},
   "outputs": [
    {
     "name": "stdout",
     "output_type": "stream",
     "text": [
      "3\n",
      "Esta\n"
     ]
    }
   ],
   "source": [
    "# Ao chamar string[4], teremos o retorno do quinto elemento da string escolhida\n",
    "print(d[0])\n",
    "# também podemos chamar um intervalo da string, com notação string[início: fim]\n",
    "print(a[0:4])"
   ]
  },
  {
   "cell_type": "markdown",
   "metadata": {},
   "source": [
    "> ### Int: são números inteiros, aceitam operações matemáticas simples e são usados para enumeração de coordenadas."
   ]
  },
  {
   "cell_type": "code",
   "execution_count": 5,
   "metadata": {},
   "outputs": [
    {
     "name": "stdout",
     "output_type": "stream",
     "text": [
      "2\n",
      "3\n"
     ]
    }
   ],
   "source": [
    "#declarando uma variável inteira\n",
    "f = 2\n",
    "print(f)\n",
    "#transformando uma string numérica em uma variável inteira\n",
    "print(int(d))"
   ]
  },
  {
   "cell_type": "code",
   "execution_count": 6,
   "metadata": {},
   "outputs": [
    {
     "name": "stdout",
     "output_type": "stream",
     "text": [
      "5\n",
      "1\n",
      "6\n",
      "1.5\n"
     ]
    }
   ],
   "source": [
    "#Operações aritméticas simples com ints:\n",
    "h = 3\n",
    "#soma:\n",
    "print(h + f)\n",
    "#subtração:\n",
    "print( h - f)\n",
    "#Multiplicação:\n",
    "print( h * f)\n",
    "#Divisão:\n",
    "print( h /f)"
   ]
  },
  {
   "cell_type": "code",
   "execution_count": 7,
   "metadata": {},
   "outputs": [
    {
     "name": "stdout",
     "output_type": "stream",
     "text": [
      "<class 'int'> <class 'float'>\n"
     ]
    }
   ],
   "source": [
    "# Usando a função type para descobrir qual a classe da variável escolhida\n",
    "print(type(h), type(h/f))"
   ]
  },
  {
   "cell_type": "markdown",
   "metadata": {},
   "source": [
    "> ### Float: Vêm da denominação \"pontos flutuantes\", são números que podem ser operados e gerar resultados com casas depois da vírgula. Floats não podem ser usados para determinar coordenadas mesmo que tenham um valor inteiro:"
   ]
  },
  {
   "cell_type": "code",
   "execution_count": 8,
   "metadata": {},
   "outputs": [
    {
     "name": "stdout",
     "output_type": "stream",
     "text": [
      "4 4.0\n",
      "25\n",
      "5.0\n"
     ]
    }
   ],
   "source": [
    "# Floats fazem todas as operações de int, mas não podem ser usadas para indicar índices ou coordenadas.\n",
    "\n",
    "# Diferença float/int:\n",
    "print(int(4), float(4))\n",
    "# Operação de potência:\n",
    "print(5**2)\n",
    "# Operação de raíz:\n",
    "print(sqrt(25))\n"
   ]
  },
  {
   "cell_type": "code",
   "execution_count": 9,
   "metadata": {},
   "outputs": [
    {
     "ename": "TypeError",
     "evalue": "string indices must be integers",
     "output_type": "error",
     "traceback": [
      "\u001b[1;31m---------------------------------------------------------------------------\u001b[0m",
      "\u001b[1;31mTypeError\u001b[0m                                 Traceback (most recent call last)",
      "\u001b[1;32m<ipython-input-9-bf16306f7ba8>\u001b[0m in \u001b[0;36m<module>\u001b[1;34m\u001b[0m\n\u001b[0;32m      1\u001b[0m \u001b[1;31m#Tentativa de usar um float, mesmo que seja matematicamente um inteiro,  para indicar uma posição em uma string\u001b[0m\u001b[1;33m\u001b[0m\u001b[1;33m\u001b[0m\u001b[1;33m\u001b[0m\u001b[0m\n\u001b[1;32m----> 2\u001b[1;33m \u001b[0ma\u001b[0m\u001b[1;33m[\u001b[0m\u001b[0mfloat\u001b[0m\u001b[1;33m(\u001b[0m\u001b[1;36m3\u001b[0m\u001b[1;33m)\u001b[0m\u001b[1;33m]\u001b[0m\u001b[1;33m\u001b[0m\u001b[1;33m\u001b[0m\u001b[0m\n\u001b[0m",
      "\u001b[1;31mTypeError\u001b[0m: string indices must be integers"
     ]
    }
   ],
   "source": [
    "#Tentativa de usar um float, mesmo que seja matematicamente um inteiro,  para indicar uma posição em uma string\n",
    "a[float(3)]"
   ]
  },
  {
   "cell_type": "markdown",
   "metadata": {},
   "source": [
    "> ## Listas: São elementos que guardam strings, ints, floats, outras listas, etc. Outra categoria de listas são os arrays(vetores) da biblioteca Numpy.\n"
   ]
  },
  {
   "cell_type": "code",
   "execution_count": 10,
   "metadata": {},
   "outputs": [],
   "source": [
    "#definindo uma lista\n",
    "lista_1 = [12, 12.5, 'maça']"
   ]
  },
  {
   "cell_type": "code",
   "execution_count": 11,
   "metadata": {},
   "outputs": [
    {
     "data": {
      "text/plain": [
       "'maça'"
      ]
     },
     "execution_count": 11,
     "metadata": {},
     "output_type": "execute_result"
    }
   ],
   "source": [
    "# escolhendo um elemento da lista:\n",
    "lista_1[2]"
   ]
  },
  {
   "cell_type": "code",
   "execution_count": 12,
   "metadata": {},
   "outputs": [],
   "source": [
    "# Criando uma lista com uma lista dentro\n",
    "lista_2 = [[1,2],[3,4]]"
   ]
  },
  {
   "cell_type": "code",
   "execution_count": 13,
   "metadata": {},
   "outputs": [
    {
     "name": "stdout",
     "output_type": "stream",
     "text": [
      "[12, 12.5, 'maça', 5.0]\n"
     ]
    }
   ],
   "source": [
    "# Adicionando elementos a uma lista:\n",
    "lista_1.append(5.)\n",
    "print(lista_1)"
   ]
  },
  {
   "cell_type": "code",
   "execution_count": 14,
   "metadata": {},
   "outputs": [
    {
     "name": "stdout",
     "output_type": "stream",
     "text": [
      "[1, 2, 3, 4]\n"
     ]
    }
   ],
   "source": [
    "# Extendendo uma lista com outra\n",
    "q = [1,2]\n",
    "r = [3,4]\n",
    "q.extend(r)\n",
    "print(q)"
   ]
  },
  {
   "cell_type": "code",
   "execution_count": 15,
   "metadata": {},
   "outputs": [
    {
     "name": "stdout",
     "output_type": "stream",
     "text": [
      "[1, 2, 3, 4, [3, 4]]\n"
     ]
    }
   ],
   "source": [
    "#cuidado ao usar append para outra lista\n",
    "q.append(r)\n",
    "print(q)"
   ]
  },
  {
   "cell_type": "code",
   "execution_count": 16,
   "metadata": {},
   "outputs": [
    {
     "name": "stdout",
     "output_type": "stream",
     "text": [
      "3\n"
     ]
    }
   ],
   "source": [
    "print(q[4][0])"
   ]
  },
  {
   "cell_type": "markdown",
   "metadata": {},
   "source": [
    ">> ### Array: Possuem boa parte das operações idênticas as de listas, porém além das pequenas diferenças costumam ser mais rápidos para processamento de dados e possuem mais versatilidades."
   ]
  },
  {
   "cell_type": "code",
   "execution_count": 17,
   "metadata": {},
   "outputs": [
    {
     "name": "stdout",
     "output_type": "stream",
     "text": [
      "[1 2 3]\n"
     ]
    }
   ],
   "source": [
    "#fazendo um array qualquer\n",
    "array = np.array([1,2,3])\n",
    "print(array)"
   ]
  },
  {
   "cell_type": "code",
   "execution_count": 18,
   "metadata": {},
   "outputs": [
    {
     "name": "stdout",
     "output_type": "stream",
     "text": [
      "[-10.  -9.  -8.  -7.  -6.  -5.  -4.  -3.  -2.  -1.   0.   1.   2.   3.\n",
      "   4.   5.   6.   7.   8.   9.  10.]\n"
     ]
    }
   ],
   "source": [
    "#criando um array com pontos que crescem linearmente de -10 a 10, num total de 21 pontos\n",
    "print(np.linspace(-10,10,21))"
   ]
  },
  {
   "cell_type": "code",
   "execution_count": 19,
   "metadata": {},
   "outputs": [
    {
     "name": "stdout",
     "output_type": "stream",
     "text": [
      "[[0.19515515 0.31555768 0.06501193 0.31553455 0.30366344 0.32776653\n",
      "  0.14490667]\n",
      " [0.12124541 0.91347895 0.59701794 0.757557   0.447063   0.88462689\n",
      "  0.82385637]]\n"
     ]
    }
   ],
   "source": [
    "# Criando um array de duas dimensões (dois arrays), com 7 elementos pseudoaleatórios em cada um dos arrays\n",
    "print(np.random.rand(2,7))"
   ]
  },
  {
   "cell_type": "code",
   "execution_count": 20,
   "metadata": {},
   "outputs": [
    {
     "name": "stdout",
     "output_type": "stream",
     "text": [
      "[0. 0. 0. 0. 0. 0. 0. 0. 0. 0.]\n"
     ]
    }
   ],
   "source": [
    "# Criando um array em que todos os elementos são zeros\n",
    "print(np.zeros(10))"
   ]
  },
  {
   "cell_type": "markdown",
   "metadata": {},
   "source": [
    "## Operações consecutivas em python:\n",
    ">\n",
    "> ### Quando é feita uma sequência de operações com a mesma variável, a variável guarda o que foi dito na última operação. Também é possível chamar a própria variável para operar com a variável, o que não representa uma equação de fato: $$x = 4 \\\\ x = x + 2 \\\\ print(x) \\\\ 6$$"
   ]
  },
  {
   "cell_type": "markdown",
   "metadata": {},
   "source": [
    "## Condições lógicas:\n",
    ">\n",
    "> ### Loop For : Usado para inspecionar os elementos de listas, textos,etc. Pode ser usado também para repetir uma operação em um número determinado de vezes.\n",
    "> ### Ex: Fazer um somatório de uma sequência de números inteiros de 0 até 20: $$ \\sum_{i = 0}^{20} i = ? $$"
   ]
  },
  {
   "cell_type": "code",
   "execution_count": 21,
   "metadata": {},
   "outputs": [
    {
     "name": "stdout",
     "output_type": "stream",
     "text": [
      "210\n"
     ]
    }
   ],
   "source": [
    "x = 0\n",
    "\n",
    "for i in range(21):  #realiza o loop 21 vezes\n",
    "    \n",
    "    x = x + i        # a cada ciclo de loop o i aumenta de uma unidade, indo de 0 até 20 (ou 21 - 1)\n",
    "\n",
    "print(x)"
   ]
  },
  {
   "cell_type": "markdown",
   "metadata": {},
   "source": [
    "> ### Condicional if: traduzido para \"se\", é usado para condicionar operações por comparação:\n",
    "> ### Exemplo, se o número for maior que zero , dizer que ele é positivo. Caso contrário, dizer que é negativo ou igual a zero"
   ]
  },
  {
   "cell_type": "code",
   "execution_count": 22,
   "metadata": {},
   "outputs": [
    {
     "name": "stdout",
     "output_type": "stream",
     "text": [
      "4\n",
      "x é positivo\n"
     ]
    }
   ],
   "source": [
    "x = float(input())  # transforma em float o que for escolhido pelo usuário no input()\n",
    "\n",
    "if x> 0:\n",
    "    print('x é positivo') # caso x seja positivo, realiza essa operação\n",
    "    \n",
    "else:                     #caso contrário realizará essa\n",
    "    \n",
    "    if x==0:              #dentro das operações do else, podemos ter zero ou negativo\n",
    "        print('x é zero') #se for zero realiza essa operação\n",
    "        \n",
    "    else:\n",
    "        print('x é negativo') # se for negativo realiza essa operação\n",
    "    "
   ]
  },
  {
   "cell_type": "markdown",
   "metadata": {},
   "source": [
    "> ### Condicional/Loop While: traduzido para \"enquanto\", realiza um loop enquanto a condição dada for verdadeira. Pode fazer operações idênticas ao loop for quando usamos um contador associado:"
   ]
  },
  {
   "cell_type": "code",
   "execution_count": 23,
   "metadata": {},
   "outputs": [
    {
     "name": "stdout",
     "output_type": "stream",
     "text": [
      "10\n"
     ]
    }
   ],
   "source": [
    "# Realiza o loop while enquanto o x for menor que 10\n",
    "\n",
    "\n",
    "x = 0\n",
    "\n",
    "while (x<10):\n",
    "    \n",
    "    x = x +1\n",
    "print(x)"
   ]
  }
 ],
 "metadata": {
  "kernelspec": {
   "display_name": "Python 3",
   "language": "python",
   "name": "python3"
  },
  "language_info": {
   "codemirror_mode": {
    "name": "ipython",
    "version": 3
   },
   "file_extension": ".py",
   "mimetype": "text/x-python",
   "name": "python",
   "nbconvert_exporter": "python",
   "pygments_lexer": "ipython3",
   "version": "3.7.3"
  }
 },
 "nbformat": 4,
 "nbformat_minor": 2
}
